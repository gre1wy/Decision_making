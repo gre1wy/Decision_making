{
 "cells": [
  {
   "cell_type": "code",
   "execution_count": 1,
   "id": "24063dbc-9505-4113-bd20-fcf51dcd9358",
   "metadata": {
    "tags": []
   },
   "outputs": [],
   "source": [
    "import numpy as np"
   ]
  },
  {
   "cell_type": "code",
   "execution_count": 2,
   "id": "eae75f6b-22f0-4e2d-b7a4-aec75daf72bf",
   "metadata": {
    "tags": []
   },
   "outputs": [],
   "source": [
    "# Варіант 3\n",
    "R = np.array(\n",
    "    [[1,1,0,1,0],\n",
    "    [1,1,1,1,1],\n",
    "    [1,0,1,1,0],\n",
    "    [1,0,1,1,0],\n",
    "    [0,1,0,0,0]])"
   ]
  },
  {
   "cell_type": "code",
   "execution_count": 3,
   "id": "8d6fab03-9406-402e-adf6-ecab7da67f82",
   "metadata": {
    "tags": []
   },
   "outputs": [
    {
     "name": "stdout",
     "output_type": "stream",
     "text": [
      "Is the relation reflexive? False\n"
     ]
    }
   ],
   "source": [
    "# У матриці рефлексивного відношення на головній діагоналі розміщуються одиниці, тобто елемент матриці a(ij) = ,1 якщо i = j .\n",
    "def reflexive(matrix: np.array):\n",
    "    \n",
    "    if matrix.shape[0]!=R.shape[1]:\n",
    "        return \"Oops, the matrix is not square\"\n",
    "    \n",
    "    is_reflexive = True\n",
    "    \n",
    "    for i in range(len(matrix)):\n",
    "        if matrix[i][i] != 1:\n",
    "            is_reflexive = False\n",
    "            break\n",
    "            \n",
    "    return is_reflexive\n",
    "\n",
    "print(\"Is the relation reflexive?\", reflexive(R))\n"
   ]
  },
  {
   "cell_type": "code",
   "execution_count": 4,
   "id": "577726ed-6d32-420e-9383-f527dcbfe629",
   "metadata": {
    "tags": []
   },
   "outputs": [
    {
     "name": "stdout",
     "output_type": "stream",
     "text": [
      "Is the relation antireflexive? False\n"
     ]
    }
   ],
   "source": [
    "#У матриці антирефлексивного відношення елементи головної діагоналі дорівнюють нулю, тобто a(ij) = 0 якщо i = j .\n",
    "def antireflexive(matrix: np.array):\n",
    "    \n",
    "    if matrix.shape[0]!=R.shape[1]:\n",
    "        return \"Oops, the matrix is not square\"\n",
    "    \n",
    "    is_antireflexive = True\n",
    "    \n",
    "    for i in range(len(matrix)):\n",
    "        if matrix[i][i] != 0:\n",
    "            is_antireflexive = False\n",
    "            break\n",
    "            \n",
    "    return is_antireflexive\n",
    "print(\"Is the relation antireflexive?\", antireflexive(R))"
   ]
  },
  {
   "cell_type": "code",
   "execution_count": 5,
   "id": "b582b340-c006-42d2-a139-de2866b36773",
   "metadata": {
    "tags": []
   },
   "outputs": [
    {
     "name": "stdout",
     "output_type": "stream",
     "text": [
      "Is the relation symmetric? False\n"
     ]
    }
   ],
   "source": [
    "#a(ji)=a(ij) для всіх значень i, j.\n",
    "def symmetric(matrix):\n",
    "    rows, cols = matrix.shape\n",
    "\n",
    "    for i in range(rows):\n",
    "        for j in range(cols):\n",
    "            if matrix[i, j] != matrix[j, i]:\n",
    "                return False\n",
    "\n",
    "    return True\n",
    "print(\"Is the relation symmetric?\", symmetric(R))"
   ]
  },
  {
   "cell_type": "code",
   "execution_count": 6,
   "id": "1f87ac8e-ea86-43c7-b5a9-3a744e04cfe3",
   "metadata": {
    "tags": []
   },
   "outputs": [
    {
     "name": "stdout",
     "output_type": "stream",
     "text": [
      "Is the relation assymmetric? False\n"
     ]
    }
   ],
   "source": [
    "#з двох симетричних елементів a(ij) і a(ji) хоча б один обов’язково дорівнює 0.\n",
    "def assymmetric(matrix):\n",
    "    rows, cols = matrix.shape\n",
    "\n",
    "    for i in range(rows):\n",
    "        for j in range(cols):\n",
    "            if matrix[i, j] == 1 and matrix[j, i] == 1:\n",
    "                return False\n",
    "\n",
    "    return True\n",
    "print(\"Is the relation assymmetric?\", assymmetric(R))"
   ]
  },
  {
   "cell_type": "code",
   "execution_count": 7,
   "id": "c2273b64-5313-47b3-a37d-42a2bc5af66d",
   "metadata": {
    "tags": []
   },
   "outputs": [
    {
     "name": "stdout",
     "output_type": "stream",
     "text": [
      "Is the relation antisymmetric? False\n"
     ]
    }
   ],
   "source": [
    "# У матриці антисиметричного відношення a(ji) ∧ a(ij) = 0, коли i ≠ j .\n",
    "def antisymmetric(matrix):\n",
    "    rows, cols = matrix.shape\n",
    "\n",
    "    for i in range(rows):\n",
    "        for j in range(cols):\n",
    "            if i!=j and matrix[i, j]==1 and matrix[j, i]==1:\n",
    "                return False\n",
    "\n",
    "    return True\n",
    "print(\"Is the relation antisymmetric?\", antisymmetric(R))"
   ]
  },
  {
   "cell_type": "code",
   "execution_count": 8,
   "id": "3a2b3b7c-e341-4c6c-89e1-90d295df34f1",
   "metadata": {
    "tags": []
   },
   "outputs": [
    {
     "name": "stdout",
     "output_type": "stream",
     "text": [
      "Is the relation transitive? False\n"
     ]
    }
   ],
   "source": [
    "# Для цього необхідно обчислити матрицю відношення R**2 (тобто піднести до квадрату матрицю вихідного відношення) і перевірити умову:\n",
    "# Якщо ij(R**2)≤ ij(R) для всіх значень i, j, то відношення транзитивне.\n",
    "def transitive(matrix):\n",
    "    RR = np.dot(matrix,matrix)\n",
    "    RR[RR>1] = 1\n",
    "    rows, cols = matrix.shape\n",
    "    for i in range(rows):\n",
    "        for j in range(cols):\n",
    "            if RR[i,j] > R[i,j]:\n",
    "                return False\n",
    "    return True\n",
    "print(\"Is the relation transitive?\", transitive(R)) "
   ]
  },
  {
   "cell_type": "code",
   "execution_count": 9,
   "id": "280b24cf-4788-405f-8a09-f288749f6a4d",
   "metadata": {
    "tags": []
   },
   "outputs": [
    {
     "name": "stdout",
     "output_type": "stream",
     "text": [
      "What is/are best element/s: ['x_2']\n"
     ]
    }
   ],
   "source": [
    "# Елемент x* множини Х будемо називати найкращим з огляду на відношення R, якщо x* R x справедливе для всякого елемента x ∈ X .\n",
    "\n",
    "def best_element(matrix):\n",
    "    bank =[]\n",
    "        \n",
    "    rows, cols = matrix.shape\n",
    "    for i in range(rows):\n",
    "        if min(matrix[i]) == 1:\n",
    "            bank.append('x_' + str(i+1))\n",
    "    return bank\n",
    "print(\"What is/are best element/s:\", best_element(R)) "
   ]
  },
  {
   "cell_type": "code",
   "execution_count": 10,
   "id": "736b3107-f9aa-4b9d-b00f-4fb71b5ae155",
   "metadata": {
    "tags": []
   },
   "outputs": [
    {
     "name": "stdout",
     "output_type": "stream",
     "text": [
      "What is/are worst element/s: []\n"
     ]
    }
   ],
   "source": [
    "# Елемент *x будемо називати найгіршим з огляду на відношення R, якщо x R *x для всіх елементів x∈ X .\n",
    "def worst_element(matrix):\n",
    "    matrix = matrix.T\n",
    "    bank =[]\n",
    "        \n",
    "    rows, cols = matrix.shape\n",
    "    for i in range(rows):\n",
    "        if min(matrix[i]) == 1:\n",
    "            bank.append('x_' + str(i+1))\n",
    "    return bank\n",
    "print(\"What is/are worst element/s:\", worst_element(R)) "
   ]
  },
  {
   "attachments": {
    "f9a9f69d-d8d5-441d-8572-7251d5a7fff4.png": {
     "image/png": "[encoded data removed]"
    }
   },
   "cell_type": "markdown",
   "id": "f9e0e179-ffb6-4918-b55d-409755ef3e89",
   "metadata": {},
   "source": [
    "![image.png](attachment:f9a9f69d-d8d5-441d-8572-7251d5a7fff4.png)"
   ]
  },
  {
   "attachments": {
    "d3c98eab-7e76-4b4f-bca0-31613413312f.png": {
     "image/png": "[encoded data removed]"
    }
   },
   "cell_type": "markdown",
   "id": "81ebd377-0642-44e7-9d68-6daecbd65fe0",
   "metadata": {},
   "source": [
    "![image.png](attachment:d3c98eab-7e76-4b4f-bca0-31613413312f.png)"
   ]
  },
  {
   "cell_type": "code",
   "execution_count": 11,
   "id": "0daa35bd-8609-4dd9-91b8-1f9728e3ae78",
   "metadata": {
    "tags": []
   },
   "outputs": [
    {
     "data": {
      "text/plain": [
       "array([[0, 0, 0, 0, 0],\n",
       "       [0, 0, 1, 1, 0],\n",
       "       [1, 0, 0, 0, 0],\n",
       "       [0, 0, 0, 0, 0],\n",
       "       [0, 0, 0, 0, 0]])"
      ]
     },
     "execution_count": 11,
     "metadata": {},
     "output_type": "execute_result"
    }
   ],
   "source": [
    "# Строге відношення\n",
    "def S_matrix(mat):\n",
    "    matrix = mat.copy()\n",
    "    for i in range(len(matrix)):\n",
    "        matrix[i, i] = 0\n",
    "    rows, cols = matrix.shape\n",
    "    for i in range(rows):\n",
    "        for j in range(cols):\n",
    "            if matrix[i,j] == 1 and matrix[j,i] == 1:\n",
    "                matrix[i,j] = 0\n",
    "                matrix[j,i] = 0\n",
    "                \n",
    "    return matrix\n",
    "S_matrix(R)"
   ]
  },
  {
   "cell_type": "code",
   "execution_count": 12,
   "id": "abc58f56-9946-4043-ab8b-e4219a532fc6",
   "metadata": {
    "tags": []
   },
   "outputs": [
    {
     "data": {
      "text/plain": [
       "array([[ 0,  0, -1,  0,  0],\n",
       "       [ 0,  0,  1,  1,  0],\n",
       "       [ 1, -1,  0,  0,  0],\n",
       "       [ 0, -1,  0,  0,  0],\n",
       "       [ 0,  0,  0,  0,  0]])"
      ]
     },
     "execution_count": 12,
     "metadata": {},
     "output_type": "execute_result"
    }
   ],
   "source": [
    "s_m = R-R.T\n",
    "s_m"
   ]
  },
  {
   "cell_type": "code",
   "execution_count": 13,
   "id": "db4c9e9b-100a-4cc0-80d5-44512927dcea",
   "metadata": {
    "tags": []
   },
   "outputs": [],
   "source": [
    "def max_el(matrix):\n",
    "    max_R_x = []\n",
    "    strong_matrix = S_matrix(matrix)\n",
    "    strong_matrix = strong_matrix.T\n",
    "    print(strong_matrix)\n",
    "    for i in range(len(strong_matrix)):\n",
    "        if max(strong_matrix[i])==0:\n",
    "             max_R_x.append('x_' + str(i+1))\n",
    "    return max_R_x"
   ]
  },
  {
   "cell_type": "code",
   "execution_count": 14,
   "id": "ac054073-5bd2-4e4a-84ca-a78313968a8e",
   "metadata": {
    "tags": []
   },
   "outputs": [],
   "source": [
    "def min_el(matrix):\n",
    "    min_R_x = []\n",
    "    strong_matrix = S_matrix(matrix)\n",
    "    print(strong_matrix)\n",
    "    for i in range(len(strong_matrix)):\n",
    "        if max(strong_matrix[i])==0:\n",
    "             min_R_x.append('x_' + str(i+1))\n",
    "    return min_R_x"
   ]
  },
  {
   "cell_type": "code",
   "execution_count": 15,
   "id": "0a138345-18b9-4d81-a38f-2d9f12908b28",
   "metadata": {
    "tags": []
   },
   "outputs": [
    {
     "name": "stdout",
     "output_type": "stream",
     "text": [
      "[[0 0 1 0 0]\n",
      " [0 0 0 0 0]\n",
      " [0 1 0 0 0]\n",
      " [0 1 0 0 0]\n",
      " [0 0 0 0 0]]\n",
      "What are max elements: ['x_2', 'x_5']\n",
      "[[0 0 0 0 0]\n",
      " [0 0 1 1 0]\n",
      " [1 0 0 0 0]\n",
      " [0 0 0 0 0]\n",
      " [0 0 0 0 0]]\n",
      "What are min elements: ['x_1', 'x_4', 'x_5']\n"
     ]
    }
   ],
   "source": [
    "print(\"What are max elements:\", max_el(R)) \n",
    "print(\"What are min elements:\", min_el(R)) "
   ]
  },
  {
   "cell_type": "code",
   "execution_count": 16,
   "id": "1edb55e7-f064-488f-8715-99cdfef9c9f6",
   "metadata": {
    "tags": []
   },
   "outputs": [
    {
     "data": {
      "text/plain": [
       "array([[0, 0, 1, 0, 1],\n",
       "       [0, 0, 0, 0, 0],\n",
       "       [0, 1, 0, 0, 1],\n",
       "       [0, 1, 0, 0, 1],\n",
       "       [1, 0, 1, 1, 1]])"
      ]
     },
     "execution_count": 16,
     "metadata": {},
     "output_type": "execute_result"
    }
   ],
   "source": [
    "# Відношення R_ називається доповненням відношення\n",
    "# R , тоді й тільки тоді, коли воно пов’язує тільки ті пари елементів, для яких не\n",
    "# виконується відношення R .\n",
    "def complement(matrix):\n",
    "    complement_R = 1 - R\n",
    "    return complement_R\n",
    "complement(R)"
   ]
  },
  {
   "cell_type": "code",
   "execution_count": 17,
   "id": "2249a77f-2568-44a9-895f-0033af4ed510",
   "metadata": {
    "tags": []
   },
   "outputs": [
    {
     "data": {
      "text/plain": [
       "array([[1, 1, 1, 1, 0],\n",
       "       [1, 1, 0, 0, 1],\n",
       "       [0, 1, 1, 1, 0],\n",
       "       [1, 1, 1, 1, 0],\n",
       "       [0, 1, 0, 0, 0]])"
      ]
     },
     "execution_count": 17,
     "metadata": {},
     "output_type": "execute_result"
    }
   ],
   "source": [
    "#Оберненим до відношення R називається відношення R^−1 , яке задовольняє таку умову:x R^-1 y ⇔ y R x  . \n",
    "# Для матриць відношень R та −1 R буде мати місце така формула: aij(R^-1)= aji(R)  .\n",
    "def converse(matrix):\n",
    "    conv_matrix = matrix.T\n",
    "    return conv_matrix\n",
    "converse(R)"
   ]
  },
  {
   "cell_type": "code",
   "execution_count": null,
   "id": "ce0cbe81-99cc-47f2-aea4-2fcb7bf963df",
   "metadata": {},
   "outputs": [],
   "source": []
  }
 ],
 "metadata": {
  "kernelspec": {
   "display_name": "Python 3",
   "language": "python",
   "name": "python3"
  },
  "language_info": {
   "codemirror_mode": {
    "name": "ipython",
    "version": 3
   },
   "file_extension": ".py",
   "mimetype": "text/x-python",
   "name": "python",
   "nbconvert_exporter": "python",
   "pygments_lexer": "ipython3",
   "version": "3.11.4"
  }
 },
 "nbformat": 4,
 "nbformat_minor": 5
}
